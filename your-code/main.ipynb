{
  "nbformat": 4,
  "nbformat_minor": 0,
  "metadata": {
    "kernelspec": {
      "display_name": "Python 3",
      "language": "python",
      "name": "python3"
    },
    "language_info": {
      "codemirror_mode": {
        "name": "ipython",
        "version": 3
      },
      "file_extension": ".py",
      "mimetype": "text/x-python",
      "name": "python",
      "nbconvert_exporter": "python",
      "pygments_lexer": "ipython3",
      "version": "3.6.8"
    },
    "colab": {
      "name": "main.ipynb",
      "provenance": []
    }
  },
  "cells": [
    {
      "cell_type": "markdown",
      "metadata": {
        "id": "dyr0s0Xqna-m"
      },
      "source": [
        "# Pandas Deep-Dive\n",
        "\n",
        "#### 1. Import Pandas package under the alias pd and Numpy under the alias np."
      ]
    },
    {
      "cell_type": "code",
      "metadata": {
        "id": "LED1-KTkna-q"
      },
      "source": [
        "# your code here\n",
        "import pandas as pd\n",
        "import numpy as np"
      ],
      "execution_count": 91,
      "outputs": []
    },
    {
      "cell_type": "markdown",
      "metadata": {
        "id": "rtMWGmC2na-t"
      },
      "source": [
        "#### 2. Define a variable called `path` that contains the path to the csv file you downloaded. If you are reading the data from Ironhack's database, define the variables needed to create the connection with the database. "
      ]
    },
    {
      "cell_type": "code",
      "metadata": {
        "id": "VCafduukna-t"
      },
      "source": [
        "# your code here\n",
        "path = 'apple_store.csv'"
      ],
      "execution_count": 4,
      "outputs": []
    },
    {
      "cell_type": "markdown",
      "metadata": {
        "id": "txwH_UMJna-t"
      },
      "source": [
        "#### 3. Using the pandas, read the data either from the downladed file or the database. \n",
        "\n",
        "Assign the returned value to a variable called `data`."
      ]
    },
    {
      "cell_type": "code",
      "metadata": {
        "id": "YmM65z9ena-u"
      },
      "source": [
        "# your code here\n",
        "data = pd.read_csv(path)"
      ],
      "execution_count": 6,
      "outputs": []
    },
    {
      "cell_type": "markdown",
      "metadata": {
        "id": "oy3lTud6na-u"
      },
      "source": [
        "#### 4. Print the first 5 rows of `data` to see what the data look like.\n",
        "\n",
        "A data analyst usually does this to have a general understanding about what the data look like before digging deep."
      ]
    },
    {
      "cell_type": "code",
      "metadata": {
        "colab": {
          "base_uri": "https://localhost:8080/",
          "height": 205
        },
        "id": "L4JzLIwIna-u",
        "outputId": "cb6608de-67f2-4362-c409-6e5f3d78af3c"
      },
      "source": [
        "# your code here\n",
        "data.head(5)"
      ],
      "execution_count": 7,
      "outputs": [
        {
          "output_type": "execute_result",
          "data": {
            "text/html": [
              "<div>\n",
              "<style scoped>\n",
              "    .dataframe tbody tr th:only-of-type {\n",
              "        vertical-align: middle;\n",
              "    }\n",
              "\n",
              "    .dataframe tbody tr th {\n",
              "        vertical-align: top;\n",
              "    }\n",
              "\n",
              "    .dataframe thead th {\n",
              "        text-align: right;\n",
              "    }\n",
              "</style>\n",
              "<table border=\"1\" class=\"dataframe\">\n",
              "  <thead>\n",
              "    <tr style=\"text-align: right;\">\n",
              "      <th></th>\n",
              "      <th>id</th>\n",
              "      <th>track_name</th>\n",
              "      <th>size_bytes</th>\n",
              "      <th>price</th>\n",
              "      <th>rating_count_tot</th>\n",
              "      <th>rating_count_ver</th>\n",
              "      <th>user_rating</th>\n",
              "      <th>user_rating_ver</th>\n",
              "      <th>prime_genre</th>\n",
              "    </tr>\n",
              "  </thead>\n",
              "  <tbody>\n",
              "    <tr>\n",
              "      <th>0</th>\n",
              "      <td>281656475</td>\n",
              "      <td>PAC-MAN Premium</td>\n",
              "      <td>100788224</td>\n",
              "      <td>3.99</td>\n",
              "      <td>21292</td>\n",
              "      <td>26</td>\n",
              "      <td>4.0</td>\n",
              "      <td>4.5</td>\n",
              "      <td>Games</td>\n",
              "    </tr>\n",
              "    <tr>\n",
              "      <th>1</th>\n",
              "      <td>281796108</td>\n",
              "      <td>Evernote - stay organized</td>\n",
              "      <td>158578688</td>\n",
              "      <td>0.00</td>\n",
              "      <td>161065</td>\n",
              "      <td>26</td>\n",
              "      <td>4.0</td>\n",
              "      <td>3.5</td>\n",
              "      <td>Productivity</td>\n",
              "    </tr>\n",
              "    <tr>\n",
              "      <th>2</th>\n",
              "      <td>281940292</td>\n",
              "      <td>WeatherBug - Local Weather, Radar, Maps, Alerts</td>\n",
              "      <td>100524032</td>\n",
              "      <td>0.00</td>\n",
              "      <td>188583</td>\n",
              "      <td>2822</td>\n",
              "      <td>3.5</td>\n",
              "      <td>4.5</td>\n",
              "      <td>Weather</td>\n",
              "    </tr>\n",
              "    <tr>\n",
              "      <th>3</th>\n",
              "      <td>282614216</td>\n",
              "      <td>eBay: Best App to Buy, Sell, Save! Online Shop...</td>\n",
              "      <td>128512000</td>\n",
              "      <td>0.00</td>\n",
              "      <td>262241</td>\n",
              "      <td>649</td>\n",
              "      <td>4.0</td>\n",
              "      <td>4.5</td>\n",
              "      <td>Shopping</td>\n",
              "    </tr>\n",
              "    <tr>\n",
              "      <th>4</th>\n",
              "      <td>282935706</td>\n",
              "      <td>Bible</td>\n",
              "      <td>92774400</td>\n",
              "      <td>0.00</td>\n",
              "      <td>985920</td>\n",
              "      <td>5320</td>\n",
              "      <td>4.5</td>\n",
              "      <td>5.0</td>\n",
              "      <td>Reference</td>\n",
              "    </tr>\n",
              "  </tbody>\n",
              "</table>\n",
              "</div>"
            ],
            "text/plain": [
              "          id  ...   prime_genre\n",
              "0  281656475  ...         Games\n",
              "1  281796108  ...  Productivity\n",
              "2  281940292  ...       Weather\n",
              "3  282614216  ...      Shopping\n",
              "4  282935706  ...     Reference\n",
              "\n",
              "[5 rows x 9 columns]"
            ]
          },
          "metadata": {},
          "execution_count": 7
        }
      ]
    },
    {
      "cell_type": "markdown",
      "metadata": {
        "id": "ELkNWG6qna-v"
      },
      "source": [
        "#### 5. Print the summary of the data."
      ]
    },
    {
      "cell_type": "code",
      "metadata": {
        "colab": {
          "base_uri": "https://localhost:8080/",
          "height": 299
        },
        "id": "i71m1jxlna-v",
        "outputId": "1f6f7c29-ed73-4de5-bc2f-2e56acaecb0e"
      },
      "source": [
        "# your code here\n",
        "data.describe()"
      ],
      "execution_count": 9,
      "outputs": [
        {
          "output_type": "execute_result",
          "data": {
            "text/html": [
              "<div>\n",
              "<style scoped>\n",
              "    .dataframe tbody tr th:only-of-type {\n",
              "        vertical-align: middle;\n",
              "    }\n",
              "\n",
              "    .dataframe tbody tr th {\n",
              "        vertical-align: top;\n",
              "    }\n",
              "\n",
              "    .dataframe thead th {\n",
              "        text-align: right;\n",
              "    }\n",
              "</style>\n",
              "<table border=\"1\" class=\"dataframe\">\n",
              "  <thead>\n",
              "    <tr style=\"text-align: right;\">\n",
              "      <th></th>\n",
              "      <th>id</th>\n",
              "      <th>size_bytes</th>\n",
              "      <th>price</th>\n",
              "      <th>rating_count_tot</th>\n",
              "      <th>rating_count_ver</th>\n",
              "      <th>user_rating</th>\n",
              "      <th>user_rating_ver</th>\n",
              "    </tr>\n",
              "  </thead>\n",
              "  <tbody>\n",
              "    <tr>\n",
              "      <th>count</th>\n",
              "      <td>7.197000e+03</td>\n",
              "      <td>7.197000e+03</td>\n",
              "      <td>7197.000000</td>\n",
              "      <td>7.197000e+03</td>\n",
              "      <td>7197.000000</td>\n",
              "      <td>7197.000000</td>\n",
              "      <td>7197.000000</td>\n",
              "    </tr>\n",
              "    <tr>\n",
              "      <th>mean</th>\n",
              "      <td>8.631310e+08</td>\n",
              "      <td>1.991345e+08</td>\n",
              "      <td>1.726218</td>\n",
              "      <td>1.289291e+04</td>\n",
              "      <td>460.373906</td>\n",
              "      <td>3.526956</td>\n",
              "      <td>3.253578</td>\n",
              "    </tr>\n",
              "    <tr>\n",
              "      <th>std</th>\n",
              "      <td>2.712368e+08</td>\n",
              "      <td>3.592069e+08</td>\n",
              "      <td>5.833006</td>\n",
              "      <td>7.573941e+04</td>\n",
              "      <td>3920.455183</td>\n",
              "      <td>1.517948</td>\n",
              "      <td>1.809363</td>\n",
              "    </tr>\n",
              "    <tr>\n",
              "      <th>min</th>\n",
              "      <td>2.816565e+08</td>\n",
              "      <td>5.898240e+05</td>\n",
              "      <td>0.000000</td>\n",
              "      <td>0.000000e+00</td>\n",
              "      <td>0.000000</td>\n",
              "      <td>0.000000</td>\n",
              "      <td>0.000000</td>\n",
              "    </tr>\n",
              "    <tr>\n",
              "      <th>25%</th>\n",
              "      <td>6.000937e+08</td>\n",
              "      <td>4.692275e+07</td>\n",
              "      <td>0.000000</td>\n",
              "      <td>2.800000e+01</td>\n",
              "      <td>1.000000</td>\n",
              "      <td>3.500000</td>\n",
              "      <td>2.500000</td>\n",
              "    </tr>\n",
              "    <tr>\n",
              "      <th>50%</th>\n",
              "      <td>9.781482e+08</td>\n",
              "      <td>9.715302e+07</td>\n",
              "      <td>0.000000</td>\n",
              "      <td>3.000000e+02</td>\n",
              "      <td>23.000000</td>\n",
              "      <td>4.000000</td>\n",
              "      <td>4.000000</td>\n",
              "    </tr>\n",
              "    <tr>\n",
              "      <th>75%</th>\n",
              "      <td>1.082310e+09</td>\n",
              "      <td>1.819249e+08</td>\n",
              "      <td>1.990000</td>\n",
              "      <td>2.793000e+03</td>\n",
              "      <td>140.000000</td>\n",
              "      <td>4.500000</td>\n",
              "      <td>4.500000</td>\n",
              "    </tr>\n",
              "    <tr>\n",
              "      <th>max</th>\n",
              "      <td>1.188376e+09</td>\n",
              "      <td>4.025970e+09</td>\n",
              "      <td>299.990000</td>\n",
              "      <td>2.974676e+06</td>\n",
              "      <td>177050.000000</td>\n",
              "      <td>5.000000</td>\n",
              "      <td>5.000000</td>\n",
              "    </tr>\n",
              "  </tbody>\n",
              "</table>\n",
              "</div>"
            ],
            "text/plain": [
              "                 id    size_bytes  ...  user_rating  user_rating_ver\n",
              "count  7.197000e+03  7.197000e+03  ...  7197.000000      7197.000000\n",
              "mean   8.631310e+08  1.991345e+08  ...     3.526956         3.253578\n",
              "std    2.712368e+08  3.592069e+08  ...     1.517948         1.809363\n",
              "min    2.816565e+08  5.898240e+05  ...     0.000000         0.000000\n",
              "25%    6.000937e+08  4.692275e+07  ...     3.500000         2.500000\n",
              "50%    9.781482e+08  9.715302e+07  ...     4.000000         4.000000\n",
              "75%    1.082310e+09  1.819249e+08  ...     4.500000         4.500000\n",
              "max    1.188376e+09  4.025970e+09  ...     5.000000         5.000000\n",
              "\n",
              "[8 rows x 7 columns]"
            ]
          },
          "metadata": {},
          "execution_count": 9
        }
      ]
    },
    {
      "cell_type": "markdown",
      "metadata": {
        "id": "xp5n6fYona-v"
      },
      "source": [
        "#### 6. Print the number of columns in the data."
      ]
    },
    {
      "cell_type": "code",
      "metadata": {
        "colab": {
          "base_uri": "https://localhost:8080/"
        },
        "id": "u-YEwNFbna-w",
        "outputId": "df371de9-eb44-4b03-d36d-6f54587ea6b7"
      },
      "source": [
        "# your code here\n",
        "len(data.columns)"
      ],
      "execution_count": 10,
      "outputs": [
        {
          "output_type": "execute_result",
          "data": {
            "text/plain": [
              "9"
            ]
          },
          "metadata": {},
          "execution_count": 10
        }
      ]
    },
    {
      "cell_type": "markdown",
      "metadata": {
        "id": "fyxsAs3ena-w"
      },
      "source": [
        "#### 7. Print all column names."
      ]
    },
    {
      "cell_type": "code",
      "metadata": {
        "colab": {
          "base_uri": "https://localhost:8080/"
        },
        "id": "QRyKRKUina-x",
        "outputId": "7c6da4d1-c7f0-4050-9f08-22bb4f273c26"
      },
      "source": [
        "# your code here\n",
        "data.columns"
      ],
      "execution_count": 11,
      "outputs": [
        {
          "output_type": "execute_result",
          "data": {
            "text/plain": [
              "Index(['id', 'track_name', 'size_bytes', 'price', 'rating_count_tot',\n",
              "       'rating_count_ver', 'user_rating', 'user_rating_ver', 'prime_genre'],\n",
              "      dtype='object')"
            ]
          },
          "metadata": {},
          "execution_count": 11
        }
      ]
    },
    {
      "cell_type": "markdown",
      "metadata": {
        "id": "Xy7ya7YOna-x"
      },
      "source": [
        "#### 8.- Now that we have a general understanding of the data, we'll start working on the challenge questions. How many apps are there in the data source? Print the number of observations of the data.\n",
        "\n",
        "**Hint**: Your code should return the number 7197."
      ]
    },
    {
      "cell_type": "code",
      "metadata": {
        "colab": {
          "base_uri": "https://localhost:8080/"
        },
        "id": "puOZpMx2na-y",
        "outputId": "de346ecf-3d87-4e70-ab3b-d3a58ffced4f"
      },
      "source": [
        "# your code here\n",
        "len(data['track_name'])"
      ],
      "execution_count": 13,
      "outputs": [
        {
          "output_type": "execute_result",
          "data": {
            "text/plain": [
              "7197"
            ]
          },
          "metadata": {},
          "execution_count": 13
        }
      ]
    },
    {
      "cell_type": "markdown",
      "metadata": {
        "id": "EsZ_pNiKna-y"
      },
      "source": [
        "#### 9. What is the average rating of all apps? \n",
        "\n",
        "First, read the `user_rating` column into a varialbe named `user_rating`."
      ]
    },
    {
      "cell_type": "code",
      "metadata": {
        "id": "DOAGoTS5na-y"
      },
      "source": [
        "# your code here\n",
        "user_rating=data['user_rating']"
      ],
      "execution_count": 15,
      "outputs": []
    },
    {
      "cell_type": "markdown",
      "metadata": {
        "id": "m3JEX34kna-z"
      },
      "source": [
        "Now you can calculate the average of the `user_rating` data.\n",
        "\n",
        "**Hint**: Your code should return 3.526955675976101."
      ]
    },
    {
      "cell_type": "code",
      "metadata": {
        "colab": {
          "base_uri": "https://localhost:8080/"
        },
        "id": "NPWhyJ4Tna-z",
        "outputId": "982436e6-a0b7-4b8d-cfd4-de5499c472b9"
      },
      "source": [
        "# your code here\n",
        "user_rating.mean()"
      ],
      "execution_count": 17,
      "outputs": [
        {
          "output_type": "execute_result",
          "data": {
            "text/plain": [
              "3.526955675976101"
            ]
          },
          "metadata": {},
          "execution_count": 17
        }
      ]
    },
    {
      "cell_type": "markdown",
      "metadata": {
        "id": "splKTTrvna-0"
      },
      "source": [
        "#### 10. How many apps have an average rating no less than 4?\n",
        "\n",
        "First, filter `user_rating` where its value >= 4. \n",
        "\n",
        "Assign the filtered dataframe to a new variable called `user_rating_high`."
      ]
    },
    {
      "cell_type": "code",
      "metadata": {
        "colab": {
          "base_uri": "https://localhost:8080/",
          "height": 81
        },
        "id": "UktX9I--na-0",
        "outputId": "3cc454df-8206-4de1-8b0a-8adbc127b2aa"
      },
      "source": [
        "# your code here\n",
        "\n",
        "user_rating_high = data[data['user_rating'] >= 4]\n",
        "data.head(1)"
      ],
      "execution_count": 30,
      "outputs": [
        {
          "output_type": "execute_result",
          "data": {
            "text/html": [
              "<div>\n",
              "<style scoped>\n",
              "    .dataframe tbody tr th:only-of-type {\n",
              "        vertical-align: middle;\n",
              "    }\n",
              "\n",
              "    .dataframe tbody tr th {\n",
              "        vertical-align: top;\n",
              "    }\n",
              "\n",
              "    .dataframe thead th {\n",
              "        text-align: right;\n",
              "    }\n",
              "</style>\n",
              "<table border=\"1\" class=\"dataframe\">\n",
              "  <thead>\n",
              "    <tr style=\"text-align: right;\">\n",
              "      <th></th>\n",
              "      <th>id</th>\n",
              "      <th>track_name</th>\n",
              "      <th>size_bytes</th>\n",
              "      <th>price</th>\n",
              "      <th>rating_count_tot</th>\n",
              "      <th>rating_count_ver</th>\n",
              "      <th>user_rating</th>\n",
              "      <th>user_rating_ver</th>\n",
              "      <th>prime_genre</th>\n",
              "      <th>user_rating_high</th>\n",
              "    </tr>\n",
              "  </thead>\n",
              "  <tbody>\n",
              "    <tr>\n",
              "      <th>0</th>\n",
              "      <td>281656475</td>\n",
              "      <td>PAC-MAN Premium</td>\n",
              "      <td>100788224</td>\n",
              "      <td>3.99</td>\n",
              "      <td>21292</td>\n",
              "      <td>26</td>\n",
              "      <td>4.0</td>\n",
              "      <td>4.5</td>\n",
              "      <td>Games</td>\n",
              "      <td>NaN</td>\n",
              "    </tr>\n",
              "  </tbody>\n",
              "</table>\n",
              "</div>"
            ],
            "text/plain": [
              "          id       track_name  ...  prime_genre  user_rating_high\n",
              "0  281656475  PAC-MAN Premium  ...        Games               NaN\n",
              "\n",
              "[1 rows x 10 columns]"
            ]
          },
          "metadata": {},
          "execution_count": 30
        }
      ]
    },
    {
      "cell_type": "markdown",
      "metadata": {
        "id": "Z2_H3rnina-0"
      },
      "source": [
        "Now obtain the length of `user_rating_high` which should return 4781."
      ]
    },
    {
      "cell_type": "code",
      "metadata": {
        "colab": {
          "base_uri": "https://localhost:8080/"
        },
        "id": "MHu517kona-1",
        "outputId": "e8422baa-4edf-47c1-d5f4-440026733539"
      },
      "source": [
        "# your code here\n",
        "\n",
        "len(user_rating_high)"
      ],
      "execution_count": 32,
      "outputs": [
        {
          "output_type": "execute_result",
          "data": {
            "text/plain": [
              "4781"
            ]
          },
          "metadata": {},
          "execution_count": 32
        }
      ]
    },
    {
      "cell_type": "markdown",
      "metadata": {
        "id": "6hseG_K6na-1"
      },
      "source": [
        "#### 11. How many genres are there in total for all the apps?\n",
        "\n",
        "Define a new variable named `genres` that contains the `prime_genre` column of `data`. Google for how to obtain unique values of a dataframe column. "
      ]
    },
    {
      "cell_type": "code",
      "metadata": {
        "id": "lt0SPj-9na-1"
      },
      "source": [
        "# your code here"
      ],
      "execution_count": null,
      "outputs": []
    },
    {
      "cell_type": "code",
      "metadata": {
        "colab": {
          "base_uri": "https://localhost:8080/"
        },
        "id": "iMrV27TmrFAg",
        "outputId": "1cbdf34a-86e2-4792-e75f-3a57d60cc8a7"
      },
      "source": [
        "genres=data.prime_genre\n",
        "genres"
      ],
      "execution_count": 39,
      "outputs": [
        {
          "output_type": "execute_result",
          "data": {
            "text/plain": [
              "0              Games\n",
              "1       Productivity\n",
              "2            Weather\n",
              "3           Shopping\n",
              "4          Reference\n",
              "            ...     \n",
              "7192           Games\n",
              "7193           Games\n",
              "7194       Utilities\n",
              "7195           Games\n",
              "7196           Games\n",
              "Name: prime_genre, Length: 7197, dtype: object"
            ]
          },
          "metadata": {},
          "execution_count": 39
        }
      ]
    },
    {
      "cell_type": "markdown",
      "metadata": {
        "id": "ZbBcUz27na-2"
      },
      "source": [
        "Print the length of the unique values of `genres`. Your code should return 23."
      ]
    },
    {
      "cell_type": "code",
      "metadata": {
        "colab": {
          "base_uri": "https://localhost:8080/"
        },
        "id": "Q8McalI5rsF2",
        "outputId": "cef317cd-adde-47dd-df31-88bd3116fc6a"
      },
      "source": [
        "len(genres.unique())"
      ],
      "execution_count": null,
      "outputs": [
        {
          "output_type": "execute_result",
          "data": {
            "text/plain": [
              "23"
            ]
          },
          "metadata": {},
          "execution_count": 41
        }
      ]
    },
    {
      "cell_type": "markdown",
      "metadata": {
        "id": "yDYxri1Fna-2"
      },
      "source": [
        "#### 12. What are the top 3 genres that have the most number of apps?\n",
        "\n",
        "What you want to do is to count the number of occurrences of each unique genre values. Because you already know how to obtain the unique genre values, you can of course count the # of apps of each genre one by one. However, Pandas has a convient function to let you count all values of a dataframe column with a single command. Google for \"pandas count values\" to find the solution. Your code should return the following:\n",
        "\n",
        "```\n",
        "Games            3862\n",
        "Entertainment     535\n",
        "Education         453\n",
        "Name: prime_genre, dtype: int64\n",
        "```"
      ]
    },
    {
      "cell_type": "code",
      "metadata": {
        "colab": {
          "base_uri": "https://localhost:8080/"
        },
        "id": "RsoL7rKmna-3",
        "outputId": "cc836aba-a010-4d0a-c296-d8dd8aad15c6"
      },
      "source": [
        "# your code here\n",
        "genres.value_counts()[:3]"
      ],
      "execution_count": 45,
      "outputs": [
        {
          "output_type": "execute_result",
          "data": {
            "text/plain": [
              "Games            3862\n",
              "Entertainment     535\n",
              "Education         453\n",
              "Name: prime_genre, dtype: int64"
            ]
          },
          "metadata": {},
          "execution_count": 45
        }
      ]
    },
    {
      "cell_type": "markdown",
      "metadata": {
        "id": "eXqgH6rrna-3"
      },
      "source": [
        "#### 13. Which genre is most likely to contain free apps?\n",
        "\n",
        "First, filter `data` where the price is 0.00. Assign the filtered data to a new variable called `free_apps`. Then count the values in `free_apps`. Your code should return:\n",
        "\n",
        "```\n",
        "Games                2257\n",
        "Entertainment         334\n",
        "Photo & Video         167\n",
        "Social Networking     143\n",
        "Education             132\n",
        "Shopping              121\n",
        "Utilities             109\n",
        "Lifestyle              94\n",
        "Finance                84\n",
        "Sports                 79\n",
        "Health & Fitness       76\n",
        "Music                  67\n",
        "Book                   66\n",
        "Productivity           62\n",
        "News                   58\n",
        "Travel                 56\n",
        "Food & Drink           43\n",
        "Weather                31\n",
        "Navigation             20\n",
        "Reference              20\n",
        "Business               20\n",
        "Catalogs                9\n",
        "Medical                 8\n",
        "Name: prime_genre, dtype: int64\n",
        "```"
      ]
    },
    {
      "cell_type": "code",
      "metadata": {
        "colab": {
          "base_uri": "https://localhost:8080/"
        },
        "id": "3OK21EbXqfKg",
        "outputId": "f5b43484-1024-442c-8599-b9cb4eb03ad3"
      },
      "source": [
        "free_apps=data[data['price']==0]\n",
        "free_apps.prime_genre.value_counts()"
      ],
      "execution_count": 52,
      "outputs": [
        {
          "output_type": "execute_result",
          "data": {
            "text/plain": [
              "Games                2257\n",
              "Entertainment         334\n",
              "Photo & Video         167\n",
              "Social Networking     143\n",
              "Education             132\n",
              "Shopping              121\n",
              "Utilities             109\n",
              "Lifestyle              94\n",
              "Finance                84\n",
              "Sports                 79\n",
              "Health & Fitness       76\n",
              "Music                  67\n",
              "Book                   66\n",
              "Productivity           62\n",
              "News                   58\n",
              "Travel                 56\n",
              "Food & Drink           43\n",
              "Weather                31\n",
              "Reference              20\n",
              "Business               20\n",
              "Navigation             20\n",
              "Catalogs                9\n",
              "Medical                 8\n",
              "Name: prime_genre, dtype: int64"
            ]
          },
          "metadata": {},
          "execution_count": 52
        }
      ]
    },
    {
      "cell_type": "markdown",
      "metadata": {
        "id": "QlFCFu95na-4"
      },
      "source": [
        "#### 14. Now you can calculate the proportion of the free apps in each genre based on the value counts you obtained in the previous two steps. \n",
        "\n",
        "Challenge yourself by achieving that with one line of code. The output should look like:\n",
        "\n",
        "```\n",
        "Shopping             0.991803\n",
        "Catalogs             0.900000\n",
        "Social Networking    0.856287\n",
        "Finance              0.807692\n",
        "News                 0.773333\n",
        "Sports               0.692982\n",
        "Travel               0.691358\n",
        "Food & Drink         0.682540\n",
        "Lifestyle            0.652778\n",
        "Entertainment        0.624299\n",
        "Book                 0.589286\n",
        "Games                0.584412\n",
        "Music                0.485507\n",
        "Photo & Video        0.478510\n",
        "Utilities            0.439516\n",
        "Navigation           0.434783\n",
        "Weather              0.430556\n",
        "Health & Fitness     0.422222\n",
        "Business             0.350877\n",
        "Productivity         0.348315\n",
        "Medical              0.347826\n",
        "Reference            0.312500\n",
        "Education            0.291391\n",
        "Name: prime_genre, dtype: float64\n",
        "```\n",
        "\n",
        "The numbers are interesting, aren't they?"
      ]
    },
    {
      "cell_type": "code",
      "metadata": {
        "colab": {
          "base_uri": "https://localhost:8080/"
        },
        "id": "cr2C5Ndrna-5",
        "outputId": "414d73c9-b6f6-471b-f3d3-fe1eb22f3859"
      },
      "source": [
        "# your code here\n",
        "proportion_free = free_apps.prime_genre.value_counts() / genres.value_counts()\n",
        "proportion_free.sort_values(ascending=False)"
      ],
      "execution_count": 53,
      "outputs": [
        {
          "output_type": "execute_result",
          "data": {
            "text/plain": [
              "Shopping             0.991803\n",
              "Catalogs             0.900000\n",
              "Social Networking    0.856287\n",
              "Finance              0.807692\n",
              "News                 0.773333\n",
              "Sports               0.692982\n",
              "Travel               0.691358\n",
              "Food & Drink         0.682540\n",
              "Lifestyle            0.652778\n",
              "Entertainment        0.624299\n",
              "Book                 0.589286\n",
              "Games                0.584412\n",
              "Music                0.485507\n",
              "Photo & Video        0.478510\n",
              "Utilities            0.439516\n",
              "Navigation           0.434783\n",
              "Weather              0.430556\n",
              "Health & Fitness     0.422222\n",
              "Business             0.350877\n",
              "Productivity         0.348315\n",
              "Medical              0.347826\n",
              "Reference            0.312500\n",
              "Education            0.291391\n",
              "Name: prime_genre, dtype: float64"
            ]
          },
          "metadata": {},
          "execution_count": 53
        }
      ]
    },
    {
      "cell_type": "markdown",
      "metadata": {
        "id": "WTwyFP-_na-5"
      },
      "source": [
        "#### 15. If a developer tries to make money by developing and selling Apple Store apps, in which genre should s/he develop the apps? Please assume all apps cost the same amount of time and expense to develop.\n",
        "\n",
        "We will leave this question to you. There are several way to solve it. Ideally your output should look like below:\n",
        "\n",
        "```\n",
        "    average_price              genre\n",
        "21       8.776087            Medical\n",
        "11       5.116316           Business\n",
        "4        4.836875          Reference\n",
        "6        4.835435              Music\n",
        "1        4.330562       Productivity\n",
        "15       4.124783         Navigation\n",
        "16       4.028234          Education\n",
        "12       1.916444   Health & Fitness\n",
        "20       1.790536               Book\n",
        "7        1.647621          Utilities\n",
        "2        1.605417            Weather\n",
        "18       1.552381       Food & Drink\n",
        "14       1.473295      Photo & Video\n",
        "0        1.432923              Games\n",
        "8        1.120370             Travel\n",
        "10       0.953070             Sports\n",
        "13       0.889701      Entertainment\n",
        "17       0.885417          Lifestyle\n",
        "22       0.799000           Catalogs\n",
        "19       0.517733               News\n",
        "5        0.421154            Finance\n",
        "9        0.339880  Social Networking\n",
        "3        0.016311           Shopping\n",
        "```"
      ]
    },
    {
      "cell_type": "code",
      "metadata": {
        "colab": {
          "base_uri": "https://localhost:8080/",
          "height": 799
        },
        "id": "8R-Uyj0sna-5",
        "outputId": "2dd47968-3828-4c7c-d415-0618ca5a3838"
      },
      "source": [
        "# your code here\n",
        "data.groupby('prime_genre').agg({'price':'mean'}).sort_values(by='price', ascending= False)"
      ],
      "execution_count": 54,
      "outputs": [
        {
          "output_type": "execute_result",
          "data": {
            "text/html": [
              "<div>\n",
              "<style scoped>\n",
              "    .dataframe tbody tr th:only-of-type {\n",
              "        vertical-align: middle;\n",
              "    }\n",
              "\n",
              "    .dataframe tbody tr th {\n",
              "        vertical-align: top;\n",
              "    }\n",
              "\n",
              "    .dataframe thead th {\n",
              "        text-align: right;\n",
              "    }\n",
              "</style>\n",
              "<table border=\"1\" class=\"dataframe\">\n",
              "  <thead>\n",
              "    <tr style=\"text-align: right;\">\n",
              "      <th></th>\n",
              "      <th>price</th>\n",
              "    </tr>\n",
              "    <tr>\n",
              "      <th>prime_genre</th>\n",
              "      <th></th>\n",
              "    </tr>\n",
              "  </thead>\n",
              "  <tbody>\n",
              "    <tr>\n",
              "      <th>Medical</th>\n",
              "      <td>8.776087</td>\n",
              "    </tr>\n",
              "    <tr>\n",
              "      <th>Business</th>\n",
              "      <td>5.116316</td>\n",
              "    </tr>\n",
              "    <tr>\n",
              "      <th>Reference</th>\n",
              "      <td>4.836875</td>\n",
              "    </tr>\n",
              "    <tr>\n",
              "      <th>Music</th>\n",
              "      <td>4.835435</td>\n",
              "    </tr>\n",
              "    <tr>\n",
              "      <th>Productivity</th>\n",
              "      <td>4.330562</td>\n",
              "    </tr>\n",
              "    <tr>\n",
              "      <th>Navigation</th>\n",
              "      <td>4.124783</td>\n",
              "    </tr>\n",
              "    <tr>\n",
              "      <th>Education</th>\n",
              "      <td>4.028234</td>\n",
              "    </tr>\n",
              "    <tr>\n",
              "      <th>Health &amp; Fitness</th>\n",
              "      <td>1.916444</td>\n",
              "    </tr>\n",
              "    <tr>\n",
              "      <th>Book</th>\n",
              "      <td>1.790536</td>\n",
              "    </tr>\n",
              "    <tr>\n",
              "      <th>Utilities</th>\n",
              "      <td>1.647621</td>\n",
              "    </tr>\n",
              "    <tr>\n",
              "      <th>Weather</th>\n",
              "      <td>1.605417</td>\n",
              "    </tr>\n",
              "    <tr>\n",
              "      <th>Food &amp; Drink</th>\n",
              "      <td>1.552381</td>\n",
              "    </tr>\n",
              "    <tr>\n",
              "      <th>Photo &amp; Video</th>\n",
              "      <td>1.473295</td>\n",
              "    </tr>\n",
              "    <tr>\n",
              "      <th>Games</th>\n",
              "      <td>1.432923</td>\n",
              "    </tr>\n",
              "    <tr>\n",
              "      <th>Travel</th>\n",
              "      <td>1.120370</td>\n",
              "    </tr>\n",
              "    <tr>\n",
              "      <th>Sports</th>\n",
              "      <td>0.953070</td>\n",
              "    </tr>\n",
              "    <tr>\n",
              "      <th>Entertainment</th>\n",
              "      <td>0.889701</td>\n",
              "    </tr>\n",
              "    <tr>\n",
              "      <th>Lifestyle</th>\n",
              "      <td>0.885417</td>\n",
              "    </tr>\n",
              "    <tr>\n",
              "      <th>Catalogs</th>\n",
              "      <td>0.799000</td>\n",
              "    </tr>\n",
              "    <tr>\n",
              "      <th>News</th>\n",
              "      <td>0.517733</td>\n",
              "    </tr>\n",
              "    <tr>\n",
              "      <th>Finance</th>\n",
              "      <td>0.421154</td>\n",
              "    </tr>\n",
              "    <tr>\n",
              "      <th>Social Networking</th>\n",
              "      <td>0.339880</td>\n",
              "    </tr>\n",
              "    <tr>\n",
              "      <th>Shopping</th>\n",
              "      <td>0.016311</td>\n",
              "    </tr>\n",
              "  </tbody>\n",
              "</table>\n",
              "</div>"
            ],
            "text/plain": [
              "                      price\n",
              "prime_genre                \n",
              "Medical            8.776087\n",
              "Business           5.116316\n",
              "Reference          4.836875\n",
              "Music              4.835435\n",
              "Productivity       4.330562\n",
              "Navigation         4.124783\n",
              "Education          4.028234\n",
              "Health & Fitness   1.916444\n",
              "Book               1.790536\n",
              "Utilities          1.647621\n",
              "Weather            1.605417\n",
              "Food & Drink       1.552381\n",
              "Photo & Video      1.473295\n",
              "Games              1.432923\n",
              "Travel             1.120370\n",
              "Sports             0.953070\n",
              "Entertainment      0.889701\n",
              "Lifestyle          0.885417\n",
              "Catalogs           0.799000\n",
              "News               0.517733\n",
              "Finance            0.421154\n",
              "Social Networking  0.339880\n",
              "Shopping           0.016311"
            ]
          },
          "metadata": {},
          "execution_count": 54
        }
      ]
    },
    {
      "cell_type": "markdown",
      "metadata": {
        "id": "pIRrkoa9na-6"
      },
      "source": [
        "# Challenge - Applying Functions to DataFrames\n",
        "\n",
        "#### Our next step is to use the apply function to a dataframe and transform all cells.\n",
        "\n",
        "To do this, we will load a dataset below and then write a function that will perform the transformation."
      ]
    },
    {
      "cell_type": "code",
      "metadata": {
        "id": "avHU280Hna-6"
      },
      "source": [
        "# Run this code:\n",
        "\n",
        "# The dataset below contains information about pollution from PM2.5 particles in Beijing \n",
        "\n",
        "url = \"https://archive.ics.uci.edu/ml/machine-learning-databases/00381/PRSA_data_2010.1.1-2014.12.31.csv\"\n",
        "pm25 = pd.read_csv(url)"
      ],
      "execution_count": 55,
      "outputs": []
    },
    {
      "cell_type": "markdown",
      "metadata": {
        "id": "iFfaSJ29na-6"
      },
      "source": [
        "Let's look at the data using the head() function."
      ]
    },
    {
      "cell_type": "code",
      "metadata": {
        "colab": {
          "base_uri": "https://localhost:8080/",
          "height": 205
        },
        "id": "mgZr5V1hna-6",
        "outputId": "196a153d-0c0a-4236-ebe1-eb1cbcea064d"
      },
      "source": [
        "# Your code here:\n",
        "pm25.head()"
      ],
      "execution_count": 56,
      "outputs": [
        {
          "output_type": "execute_result",
          "data": {
            "text/html": [
              "<div>\n",
              "<style scoped>\n",
              "    .dataframe tbody tr th:only-of-type {\n",
              "        vertical-align: middle;\n",
              "    }\n",
              "\n",
              "    .dataframe tbody tr th {\n",
              "        vertical-align: top;\n",
              "    }\n",
              "\n",
              "    .dataframe thead th {\n",
              "        text-align: right;\n",
              "    }\n",
              "</style>\n",
              "<table border=\"1\" class=\"dataframe\">\n",
              "  <thead>\n",
              "    <tr style=\"text-align: right;\">\n",
              "      <th></th>\n",
              "      <th>No</th>\n",
              "      <th>year</th>\n",
              "      <th>month</th>\n",
              "      <th>day</th>\n",
              "      <th>hour</th>\n",
              "      <th>pm2.5</th>\n",
              "      <th>DEWP</th>\n",
              "      <th>TEMP</th>\n",
              "      <th>PRES</th>\n",
              "      <th>cbwd</th>\n",
              "      <th>Iws</th>\n",
              "      <th>Is</th>\n",
              "      <th>Ir</th>\n",
              "    </tr>\n",
              "  </thead>\n",
              "  <tbody>\n",
              "    <tr>\n",
              "      <th>0</th>\n",
              "      <td>1</td>\n",
              "      <td>2010</td>\n",
              "      <td>1</td>\n",
              "      <td>1</td>\n",
              "      <td>0</td>\n",
              "      <td>NaN</td>\n",
              "      <td>-21</td>\n",
              "      <td>-11.0</td>\n",
              "      <td>1021.0</td>\n",
              "      <td>NW</td>\n",
              "      <td>1.79</td>\n",
              "      <td>0</td>\n",
              "      <td>0</td>\n",
              "    </tr>\n",
              "    <tr>\n",
              "      <th>1</th>\n",
              "      <td>2</td>\n",
              "      <td>2010</td>\n",
              "      <td>1</td>\n",
              "      <td>1</td>\n",
              "      <td>1</td>\n",
              "      <td>NaN</td>\n",
              "      <td>-21</td>\n",
              "      <td>-12.0</td>\n",
              "      <td>1020.0</td>\n",
              "      <td>NW</td>\n",
              "      <td>4.92</td>\n",
              "      <td>0</td>\n",
              "      <td>0</td>\n",
              "    </tr>\n",
              "    <tr>\n",
              "      <th>2</th>\n",
              "      <td>3</td>\n",
              "      <td>2010</td>\n",
              "      <td>1</td>\n",
              "      <td>1</td>\n",
              "      <td>2</td>\n",
              "      <td>NaN</td>\n",
              "      <td>-21</td>\n",
              "      <td>-11.0</td>\n",
              "      <td>1019.0</td>\n",
              "      <td>NW</td>\n",
              "      <td>6.71</td>\n",
              "      <td>0</td>\n",
              "      <td>0</td>\n",
              "    </tr>\n",
              "    <tr>\n",
              "      <th>3</th>\n",
              "      <td>4</td>\n",
              "      <td>2010</td>\n",
              "      <td>1</td>\n",
              "      <td>1</td>\n",
              "      <td>3</td>\n",
              "      <td>NaN</td>\n",
              "      <td>-21</td>\n",
              "      <td>-14.0</td>\n",
              "      <td>1019.0</td>\n",
              "      <td>NW</td>\n",
              "      <td>9.84</td>\n",
              "      <td>0</td>\n",
              "      <td>0</td>\n",
              "    </tr>\n",
              "    <tr>\n",
              "      <th>4</th>\n",
              "      <td>5</td>\n",
              "      <td>2010</td>\n",
              "      <td>1</td>\n",
              "      <td>1</td>\n",
              "      <td>4</td>\n",
              "      <td>NaN</td>\n",
              "      <td>-20</td>\n",
              "      <td>-12.0</td>\n",
              "      <td>1018.0</td>\n",
              "      <td>NW</td>\n",
              "      <td>12.97</td>\n",
              "      <td>0</td>\n",
              "      <td>0</td>\n",
              "    </tr>\n",
              "  </tbody>\n",
              "</table>\n",
              "</div>"
            ],
            "text/plain": [
              "   No  year  month  day  hour  pm2.5  DEWP  TEMP    PRES cbwd    Iws  Is  Ir\n",
              "0   1  2010      1    1     0    NaN   -21 -11.0  1021.0   NW   1.79   0   0\n",
              "1   2  2010      1    1     1    NaN   -21 -12.0  1020.0   NW   4.92   0   0\n",
              "2   3  2010      1    1     2    NaN   -21 -11.0  1019.0   NW   6.71   0   0\n",
              "3   4  2010      1    1     3    NaN   -21 -14.0  1019.0   NW   9.84   0   0\n",
              "4   5  2010      1    1     4    NaN   -20 -12.0  1018.0   NW  12.97   0   0"
            ]
          },
          "metadata": {},
          "execution_count": 56
        }
      ]
    },
    {
      "cell_type": "markdown",
      "metadata": {
        "id": "rQjGrWvZna-7"
      },
      "source": [
        "The next step is to create a function that divides a cell by 24 to produce an hourly figure. Write the function below."
      ]
    },
    {
      "cell_type": "code",
      "metadata": {
        "id": "93s00V17na-7"
      },
      "source": [
        "def hourly(x):\n",
        "    '''\n",
        "    Input: A numerical value\n",
        "    Output: The value divided by 24\n",
        "        \n",
        "    Example:\n",
        "    Input: 48\n",
        "    Output: 2.0\n",
        "    '''\n",
        "    \n",
        "    # Your code here:\n",
        "    return x/24"
      ],
      "execution_count": 58,
      "outputs": []
    },
    {
      "cell_type": "markdown",
      "metadata": {
        "id": "JOap9c6Rna-7"
      },
      "source": [
        "Apply this function to the columns Iws, Is, and Ir. Store this new dataframe in the variable pm25_hourly."
      ]
    },
    {
      "cell_type": "code",
      "metadata": {
        "colab": {
          "base_uri": "https://localhost:8080/",
          "height": 422
        },
        "id": "-6PJyaXtna-7",
        "outputId": "2b9f9520-9795-468a-cc8c-f3fe8e5cfeff"
      },
      "source": [
        "# Your code here:\n",
        "pm25_hourly = pm25[['Iws', 'Is', 'Ir']].apply(hourly, axis= 0)\n",
        "pm25_hourly"
      ],
      "execution_count": 60,
      "outputs": [
        {
          "output_type": "execute_result",
          "data": {
            "text/html": [
              "<div>\n",
              "<style scoped>\n",
              "    .dataframe tbody tr th:only-of-type {\n",
              "        vertical-align: middle;\n",
              "    }\n",
              "\n",
              "    .dataframe tbody tr th {\n",
              "        vertical-align: top;\n",
              "    }\n",
              "\n",
              "    .dataframe thead th {\n",
              "        text-align: right;\n",
              "    }\n",
              "</style>\n",
              "<table border=\"1\" class=\"dataframe\">\n",
              "  <thead>\n",
              "    <tr style=\"text-align: right;\">\n",
              "      <th></th>\n",
              "      <th>Iws</th>\n",
              "      <th>Is</th>\n",
              "      <th>Ir</th>\n",
              "    </tr>\n",
              "  </thead>\n",
              "  <tbody>\n",
              "    <tr>\n",
              "      <th>0</th>\n",
              "      <td>0.074583</td>\n",
              "      <td>0.0</td>\n",
              "      <td>0.0</td>\n",
              "    </tr>\n",
              "    <tr>\n",
              "      <th>1</th>\n",
              "      <td>0.205000</td>\n",
              "      <td>0.0</td>\n",
              "      <td>0.0</td>\n",
              "    </tr>\n",
              "    <tr>\n",
              "      <th>2</th>\n",
              "      <td>0.279583</td>\n",
              "      <td>0.0</td>\n",
              "      <td>0.0</td>\n",
              "    </tr>\n",
              "    <tr>\n",
              "      <th>3</th>\n",
              "      <td>0.410000</td>\n",
              "      <td>0.0</td>\n",
              "      <td>0.0</td>\n",
              "    </tr>\n",
              "    <tr>\n",
              "      <th>4</th>\n",
              "      <td>0.540417</td>\n",
              "      <td>0.0</td>\n",
              "      <td>0.0</td>\n",
              "    </tr>\n",
              "    <tr>\n",
              "      <th>...</th>\n",
              "      <td>...</td>\n",
              "      <td>...</td>\n",
              "      <td>...</td>\n",
              "    </tr>\n",
              "    <tr>\n",
              "      <th>43819</th>\n",
              "      <td>9.665417</td>\n",
              "      <td>0.0</td>\n",
              "      <td>0.0</td>\n",
              "    </tr>\n",
              "    <tr>\n",
              "      <th>43820</th>\n",
              "      <td>9.907500</td>\n",
              "      <td>0.0</td>\n",
              "      <td>0.0</td>\n",
              "    </tr>\n",
              "    <tr>\n",
              "      <th>43821</th>\n",
              "      <td>10.112500</td>\n",
              "      <td>0.0</td>\n",
              "      <td>0.0</td>\n",
              "    </tr>\n",
              "    <tr>\n",
              "      <th>43822</th>\n",
              "      <td>10.280000</td>\n",
              "      <td>0.0</td>\n",
              "      <td>0.0</td>\n",
              "    </tr>\n",
              "    <tr>\n",
              "      <th>43823</th>\n",
              "      <td>10.410417</td>\n",
              "      <td>0.0</td>\n",
              "      <td>0.0</td>\n",
              "    </tr>\n",
              "  </tbody>\n",
              "</table>\n",
              "<p>43824 rows × 3 columns</p>\n",
              "</div>"
            ],
            "text/plain": [
              "             Iws   Is   Ir\n",
              "0       0.074583  0.0  0.0\n",
              "1       0.205000  0.0  0.0\n",
              "2       0.279583  0.0  0.0\n",
              "3       0.410000  0.0  0.0\n",
              "4       0.540417  0.0  0.0\n",
              "...          ...  ...  ...\n",
              "43819   9.665417  0.0  0.0\n",
              "43820   9.907500  0.0  0.0\n",
              "43821  10.112500  0.0  0.0\n",
              "43822  10.280000  0.0  0.0\n",
              "43823  10.410417  0.0  0.0\n",
              "\n",
              "[43824 rows x 3 columns]"
            ]
          },
          "metadata": {},
          "execution_count": 60
        }
      ]
    },
    {
      "cell_type": "markdown",
      "metadata": {
        "id": "twrRBPtkna-7"
      },
      "source": [
        "#### Our last challenge will be to create an aggregate function and apply it to a select group of columns in our dataframe.\n",
        "\n",
        "Write a function that returns the standard deviation of a column divided by the length of a column minus 1. Since we are using pandas, do not use the `len()` function. One alternative is to use `count()`. Also, use the numpy version of standard deviation."
      ]
    },
    {
      "cell_type": "code",
      "metadata": {
        "id": "M3dh6GiVna-8"
      },
      "source": [
        "def sample_sd(x):\n",
        "    '''\n",
        "    Input: A Pandas series of values\n",
        "    Output: the standard deviation divided by the number of elements in the series\n",
        "        \n",
        "    Example:\n",
        "    Input: pd.Series([1,2,3,4])\n",
        "    Output: 0.3726779962\n",
        "    '''\n",
        "    \n",
        "    # Your code here:\n",
        "    return np.std(x)/ x.count(x)-1"
      ],
      "execution_count": 115,
      "outputs": []
    },
    {
      "cell_type": "code",
      "metadata": {
        "colab": {
          "base_uri": "https://localhost:8080/",
          "height": 322
        },
        "id": "Ot-mi-vKvEok",
        "outputId": "7891db2e-f36a-4e31-890b-54566df88f11"
      },
      "source": [
        "sample_sd([1,2,7])"
      ],
      "execution_count": 116,
      "outputs": [
        {
          "output_type": "error",
          "ename": "AttributeError",
          "evalue": "ignored",
          "traceback": [
            "\u001b[0;31m---------------------------------------------------------------------------\u001b[0m",
            "\u001b[0;31mAttributeError\u001b[0m                            Traceback (most recent call last)",
            "\u001b[0;32m<ipython-input-116-3ae891f01d38>\u001b[0m in \u001b[0;36m<module>\u001b[0;34m()\u001b[0m\n\u001b[0;32m----> 1\u001b[0;31m \u001b[0msample_sd\u001b[0m\u001b[0;34m(\u001b[0m\u001b[0;34m[\u001b[0m\u001b[0;36m1\u001b[0m\u001b[0;34m,\u001b[0m\u001b[0;36m2\u001b[0m\u001b[0;34m,\u001b[0m\u001b[0;36m7\u001b[0m\u001b[0;34m]\u001b[0m\u001b[0;34m)\u001b[0m\u001b[0;34m\u001b[0m\u001b[0;34m\u001b[0m\u001b[0m\n\u001b[0m",
            "\u001b[0;32m<ipython-input-115-2a5a7ce02fbe>\u001b[0m in \u001b[0;36msample_sd\u001b[0;34m(x)\u001b[0m\n\u001b[1;32m     10\u001b[0m \u001b[0;34m\u001b[0m\u001b[0m\n\u001b[1;32m     11\u001b[0m     \u001b[0;31m# Your code here:\u001b[0m\u001b[0;34m\u001b[0m\u001b[0;34m\u001b[0m\u001b[0;34m\u001b[0m\u001b[0m\n\u001b[0;32m---> 12\u001b[0;31m     \u001b[0;32mreturn\u001b[0m \u001b[0mnp\u001b[0m\u001b[0;34m.\u001b[0m\u001b[0mstd\u001b[0m\u001b[0;34m(\u001b[0m\u001b[0mx\u001b[0m\u001b[0;34m)\u001b[0m\u001b[0;34m/\u001b[0m \u001b[0mnp\u001b[0m\u001b[0;34m.\u001b[0m\u001b[0mcount\u001b[0m\u001b[0;34m(\u001b[0m\u001b[0mx\u001b[0m\u001b[0;34m)\u001b[0m\u001b[0;34m-\u001b[0m\u001b[0;36m1\u001b[0m\u001b[0;34m\u001b[0m\u001b[0;34m\u001b[0m\u001b[0m\n\u001b[0m",
            "\u001b[0;32m/usr/local/lib/python3.7/dist-packages/numpy/__init__.py\u001b[0m in \u001b[0;36m__getattr__\u001b[0;34m(attr)\u001b[0m\n\u001b[1;32m    213\u001b[0m             \u001b[0;32melse\u001b[0m\u001b[0;34m:\u001b[0m\u001b[0;34m\u001b[0m\u001b[0;34m\u001b[0m\u001b[0m\n\u001b[1;32m    214\u001b[0m                 raise AttributeError(\"module {!r} has no attribute \"\n\u001b[0;32m--> 215\u001b[0;31m                                      \"{!r}\".format(__name__, attr))\n\u001b[0m\u001b[1;32m    216\u001b[0m \u001b[0;34m\u001b[0m\u001b[0m\n\u001b[1;32m    217\u001b[0m         \u001b[0;32mdef\u001b[0m \u001b[0m__dir__\u001b[0m\u001b[0;34m(\u001b[0m\u001b[0;34m)\u001b[0m\u001b[0;34m:\u001b[0m\u001b[0;34m\u001b[0m\u001b[0;34m\u001b[0m\u001b[0m\n",
            "\u001b[0;31mAttributeError\u001b[0m: module 'numpy' has no attribute 'count'"
          ]
        }
      ]
    }
  ]
}